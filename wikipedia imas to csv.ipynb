{
 "cells": [
  {
   "cell_type": "code",
   "execution_count": 44,
   "metadata": {},
   "outputs": [
    {
     "name": "stdout",
     "output_type": "stream",
     "text": [
      "\n",
      "\n",
      "0\n"
     ]
    }
   ],
   "source": [
    "import pprint\n",
    "import re\n",
    "\n",
    "with open('imas.txt', \"r\", encoding=\"utf-8\") as f:\n",
    "    s = f.read()\n",
    "s = s.replace('\\u3000', '、')\n",
    "lines = s.splitlines()\n",
    "songs = []\n",
    "for i in range(len(lines)):\n",
    "    line = lines[i]\n",
    "    if line.startswith('作詞'):\n",
    "\n",
    "        line = re.sub('、REMIX.*$', '',line)\n",
    "        line = re.sub('、Rearr[ae]nge.*$', '',line)\n",
    "        line = re.sub('、弦管編曲.*$', '',line)\n",
    "        line = re.sub('、アレンジ：.*$', '',line)\n",
    "        line = re.sub('、歌：.*$', '',line)\n",
    "        \n",
    "        if (result := re.match('.*オリジナルアーティスト.*', line)):\n",
    "            continue\n",
    "        elif (result := re.match('作詞：(.*)、作曲・編曲：(.*)、編曲：(.*)$', line)):\n",
    "            songs.append({'曲名':lines[i-1], '作詞': result.group(1), '作曲': result.group(2), '編曲': result.group(2) + '、' + result.group(3)})\n",
    "        elif (result := re.match('作詞：(.*)、作曲・編曲：(.*)$', line)):\n",
    "            songs.append({'曲名':lines[i-1], '作詞': result.group(1), '作曲': result.group(2), '編曲': result.group(2)})\n",
    "        elif (result := re.match('作詞[・･]作曲：(.*)、編曲：(.*)$', line)):\n",
    "            songs.append({'曲名':lines[i-1], '作詞': result.group(1), '作曲': result.group(1), '編曲': result.group(2)})\n",
    "        elif (result := re.match('作詞：(.*)、作曲：(.*)、編曲：(.*)$', line)):\n",
    "            songs.append({'曲名':lines[i-1], '作詞': result.group(1), '作曲': result.group(2), '編曲': result.group(3)})\n",
    "        elif (result := re.match('作詞・作曲・編曲：(.*)、編曲：(.*)$', line)):\n",
    "            songs.append({'曲名':lines[i-1], '作詞': result.group(1), '作曲': result.group(1), '編曲': result.group(1) + '、' + result.group(2)})\n",
    "        elif (result := re.match('作詞・作曲・編曲：(.*)$', line)):\n",
    "            songs.append({'曲名':lines[i-1], '作詞': result.group(1), '作曲': result.group(1), '編曲': result.group(1)})\n",
    "\n",
    "        elif (result := re.match('作詞：(.*)、作曲：(.*)$', line)):\n",
    "            songs.append({'曲名':lines[i-1], '作詞': result.group(1), '作曲': result.group(2)})\n",
    "        elif (result := re.match('作詞・作曲：(.*)$', line)):\n",
    "            songs.append({'曲名':lines[i-1], '作詞': result.group(1), '作曲': result.group(1)})\n",
    "        else:\n",
    "            print()\n",
    "            #songs.append({'曲名':lines[i-1], 'information': line})\n",
    "\n",
    "count = 0\n",
    "for i in range(len(songs)):\n",
    "    song = songs[i]\n",
    "    if 'information' in song:\n",
    "        print(song)\n",
    "        count = count + 1\n",
    "print(count)\n",
    "\n"
   ]
  },
  {
   "cell_type": "code",
   "execution_count": 45,
   "metadata": {},
   "outputs": [],
   "source": [
    "import csv\n",
    "\n",
    "with open('imas.csv', 'w', encoding='utf-8') as f:\n",
    "    writer = csv.DictWriter(f, ['曲名', '作詞', '作曲', '編曲'],lineterminator='\\n')\n",
    "    writer.writeheader()\n",
    "    writer.writerows(songs)"
   ]
  },
  {
   "cell_type": "code",
   "execution_count": null,
   "metadata": {},
   "outputs": [],
   "source": []
  }
 ],
 "metadata": {
  "kernelspec": {
   "display_name": "Python 3",
   "language": "python",
   "name": "python3"
  },
  "language_info": {
   "codemirror_mode": {
    "name": "ipython",
    "version": 3
   },
   "file_extension": ".py",
   "mimetype": "text/x-python",
   "name": "python",
   "nbconvert_exporter": "python",
   "pygments_lexer": "ipython3",
   "version": "3.8.5"
  }
 },
 "nbformat": 4,
 "nbformat_minor": 4
}
